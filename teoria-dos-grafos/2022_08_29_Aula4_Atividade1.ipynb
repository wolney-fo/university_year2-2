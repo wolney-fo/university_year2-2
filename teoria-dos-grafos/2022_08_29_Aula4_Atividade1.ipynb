{
  "cells": [
    {
      "cell_type": "markdown",
      "metadata": {
        "id": "upN5UyyIVDG2"
      },
      "source": [
        "# Atividade 1 \n",
        "\n",
        "Agora é com vocês. Nessa atividade vocês vão utilizar os métodos implementados nas aulas para resolver alguns problemas relacionados à teoria dos grafos. Preparados? \n"
      ]
    },
    {
      "cell_type": "code",
      "execution_count": null,
      "metadata": {
        "id": "S-pYq49xVDG6"
      },
      "outputs": [],
      "source": [
        "# importando a biblioteca \n",
        "\n",
        "import networkx as nx\n",
        "import math\n",
        "\n",
        "# importação da biblioteca para plotagem de gráficos \n",
        "import matplotlib.pyplot as plt\n"
      ]
    },
    {
      "cell_type": "code",
      "execution_count": null,
      "metadata": {
        "id": "bHy34oOOVDG9"
      },
      "outputs": [],
      "source": [
        "def exibir_grafo_q1(grafo):\n",
        "  \n",
        "  colors = ['red' if grafo[u][v]['asfaltada'] == False else 'green' for u,v in grafo.edges()]\n",
        "\n",
        "  options = {\n",
        "      'node_color': 'darkblue',\n",
        "      'edge_color': colors,\n",
        "      'node_size': 600,\n",
        "      'width': 2,\n",
        "      'font_color': 'white',\n",
        "      'font_weight': 'bold',\n",
        "      'font_size': 10\n",
        "\n",
        "  }\n",
        "\n",
        "  plt.figure(1)\n",
        "  \n",
        "  nx.draw_networkx(\n",
        "      grafo, \n",
        "      pos=nx.spring_layout(grafo), \n",
        "      with_labels=True,\n",
        "      **options\n",
        "  )\n",
        "\n",
        "  \n",
        "  plt.show()"
      ]
    },
    {
      "cell_type": "code",
      "source": [
        "def get_info_asfaltada(grafo, v1, v2):\n",
        "  return grafo[v1][v2]['asfaltada']"
      ],
      "metadata": {
        "id": "YfoB8rLQIJBc"
      },
      "execution_count": null,
      "outputs": []
    },
    {
      "cell_type": "markdown",
      "metadata": {
        "id": "QUjBivaeVDHI"
      },
      "source": [
        "## Vamos ao problema\n",
        "\n",
        "\n",
        "Um empresa está fazendo o mapeamento de uma região composta por conjuntos de casas que podem ser conectadas por estradas asfaltadas e estradas sem asfalto. O objetivo é agrupar qual conjunto de casas estão conectadas direta ou indiretamente por meio de estradas asfaltadas. A imagem a seguir representa uma imagem da região. \n",
        "\n",
        "<img src=\"https://data2learning.com/static_imgs/grafos_img1.png\" />\n",
        "\n",
        "Cada vértice representa um conjunto de casas. As arestas pontilhadas representam as estradas sem asfalto, as demais são estradas com asfalto. \n",
        "\n",
        "Implemente um algoritmo com base nos algoritmos estudados que permita identificar o conjunto de casas que estão conectados por estradas asfaltadas. Considere que seu algoritmo recebe como entrada um grafo da região com uma indicação em cada aresta que indique se aquela aresta está asfaltada ou não. \n",
        "\n",
        "O grafo está mapeado a seguir:\n",
        "\n",
        "*As arestas verdes são as asfaltadas e as vermelhas as não asfaltadas*"
      ]
    },
    {
      "cell_type": "code",
      "execution_count": null,
      "metadata": {
        "id": "mbCHhg2wVDHK",
        "outputId": "a4295e2f-ee01-4654-ae63-6072f24539cd",
        "colab": {
          "base_uri": "https://localhost:8080/",
          "height": 248
        }
      },
      "outputs": [
        {
          "output_type": "display_data",
          "data": {
            "text/plain": [
              "<Figure size 432x288 with 1 Axes>"
            ],
            "image/png": "[encoded data removed]"
          },
          "metadata": {}
        }
      ],
      "source": [
        "# Instanciando o objeto Grafo\n",
        "G1 = nx.Graph()\n",
        "\n",
        "# Adicionando os Vértices\n",
        "G1.add_nodes_from([\"C1\",\"C2\",\"C3\",\"C4\",\"C5\",\"C6\",\"C7\",\"C8\",\"C9\"])\n",
        "\n",
        "# Adicionando as Arestas\n",
        "G1.add_edge(\"C1\", \"C2\", asfaltada=False)\n",
        "G1.add_edge(\"C1\", \"C4\", asfaltada=True)\n",
        "G1.add_edge(\"C2\", \"C3\", asfaltada=True)\n",
        "G1.add_edge(\"C2\", \"C5\", asfaltada=True)\n",
        "G1.add_edge(\"C3\", \"C5\", asfaltada=False)\n",
        "G1.add_edge(\"C3\", \"C6\", asfaltada=False)\n",
        "G1.add_edge(\"C4\", \"C5\", asfaltada=False)\n",
        "G1.add_edge(\"C4\", \"C7\", asfaltada=True)\n",
        "G1.add_edge(\"C5\", \"C6\", asfaltada=True)\n",
        "G1.add_edge(\"C5\", \"C8\", asfaltada=False)\n",
        "G1.add_edge(\"C5\", \"C9\", asfaltada=False)\n",
        "G1.add_edge(\"C6\", \"C9\", asfaltada=False)\n",
        "G1.add_edge(\"C7\", \"C8\", asfaltada=True)\n",
        "G1.add_edge(\"C8\", \"C9\", asfaltada=False)\n",
        "\n",
        "\n",
        "exibir_grafo_q1(G1)\n"
      ]
    },
    {
      "cell_type": "markdown",
      "source": [
        "# Solução\n",
        "\n",
        "\n"
      ],
      "metadata": {
        "id": "KPKedbc9JZwA"
      }
    },
    {
      "cell_type": "code",
      "source": [
        "# Função que retorna um vértice adjacente não-visitado\n",
        "# de um vértice passado como parâmetro\n",
        "\n",
        "# Modificação: Retorna apenas quando a aresta é asfaltada (linha 2).\n",
        "\n",
        "def get_no_visted_neighbors_bfs(graph_, node, visited_nodes):\n",
        "  neighbors_node = [x for x in list(nx.neighbors(graph_, node)) if ((x not in visited_nodes) and (get_info_asfaltada(graph_, node, x)))]\n",
        "  if len(neighbors_node) > 0: return neighbors_node\n",
        "  else: None"
      ],
      "metadata": {
        "id": "XvI2VVrjKGaU"
      },
      "execution_count": null,
      "outputs": []
    },
    {
      "cell_type": "code",
      "source": [
        "\n",
        "def bfs_interative(graph_, node, not_visited_nodes):\n",
        "\n",
        "  queue_ = []\n",
        "  visited_ = []\n",
        "  explored_ = []\n",
        "\n",
        "  queue_.append(node)\n",
        "  visited_.append(node)\n",
        "  not_visited_nodes.remove(node)\n",
        "\n",
        "  while len(queue_) > 0:\n",
        "    first_queue = queue_[0]\n",
        "    nodes_not_visited = get_no_visted_neighbors_bfs(graph_, first_queue, visited_)\n",
        "    if nodes_not_visited:\n",
        "      queue_.extend(nodes_not_visited)\n",
        "      visited_.extend(nodes_not_visited)\n",
        "      for temp_node in nodes_not_visited:\n",
        "        not_visited_nodes.remove(temp_node)\n",
        "    \n",
        "    explored_.append(queue_.pop(0))\n",
        "\n",
        "  return explored_\n"
      ],
      "metadata": {
        "id": "kj-S8Xn8Jm4O"
      },
      "execution_count": null,
      "outputs": []
    },
    {
      "cell_type": "code",
      "source": [
        "# Main\n",
        "\n",
        "allHouses = list(G1.nodes())\n",
        "housesToCheck = allHouses.copy()\n",
        "\n",
        "groupsCounter = 1\n",
        "while len(housesToCheck) > 0:\n",
        "  verifiedConnectedHouses = bfs_interative(G1, housesToCheck[0], housesToCheck)\n",
        "\n",
        "  try:\n",
        "    for house in verifiedConnectedHouses:\n",
        "      housesToCheck.remove(house)\n",
        "  except:\n",
        "    pass\n",
        "\n",
        "  print('Grupo {}: {}'.format(groupsCounter, verifiedConnectedHouses))\n",
        "  \n",
        "  groupsCounter += 1\n",
        "\n"
      ],
      "metadata": {
        "id": "27C1twFgNa_1",
        "colab": {
          "base_uri": "https://localhost:8080/"
        },
        "outputId": "3d297c3d-7211-4194-854e-67a9d75ed62f"
      },
      "execution_count": null,
      "outputs": [
        {
          "output_type": "stream",
          "name": "stdout",
          "text": [
            "Grupo 1: ['C1', 'C4', 'C7', 'C8']\n",
            "Grupo 2: ['C2', 'C3', 'C5', 'C6']\n",
            "Grupo 3: ['C9']\n"
          ]
        }
      ]
    },
    {
      "cell_type": "markdown",
      "source": [
        "# Como podemos resolver esse problema?\n",
        "\n",
        "\n"
      ],
      "metadata": {
        "id": "52Xaomahi_Bh"
      }
    },
    {
      "cell_type": "markdown",
      "metadata": {
        "id": "eV8KT1KJFYnZ"
      },
      "source": [
        "Agora é sua vez de junto com os seus colegas encontrar uma solução para o problema. Pense nos algoritmos de busca estudados e veja como podemos usa-los para ter a solução. Ao implementar a solução, aplique ao grafo dado. \n",
        "\n",
        "A resposta para o problema é: \n",
        "\n",
        "```\n",
        "Grupo 1: ['C1', 'C4', 'C7', 'C8']\n",
        "Grupo 2: ['C2', 'C3', 'C5', 'C6']\n",
        "Grupo 3: ['C9']\n",
        "```\n",
        "\n",
        "Boa atividade e lembre: \n",
        "\n",
        "<img src=\"https://media.giphy.com/media/26DN48mfu3uWJ3J7y/giphy.gif\" /> "
      ]
    }
  ],
  "metadata": {
    "colab": {
      "provenance": [],
      "collapsed_sections": []
    },
    "interpreter": {
      "hash": "22f6bab55def2cab2159870198438f46de8e190d709b22092e52c9a14574a288"
    },
    "kernelspec": {
      "display_name": "Python 3.9.7 ('base')",
      "language": "python",
      "name": "python3"
    },
    "language_info": {
      "codemirror_mode": {
        "name": "ipython",
        "version": 3
      },
      "file_extension": ".py",
      "mimetype": "text/x-python",
      "name": "python",
      "nbconvert_exporter": "python",
      "pygments_lexer": "ipython3",
      "version": "3.9.7"
    },
    "orig_nbformat": 4
  },
  "nbformat": 4,
  "nbformat_minor": 0
}